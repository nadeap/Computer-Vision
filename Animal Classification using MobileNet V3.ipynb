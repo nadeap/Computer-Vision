{
  "cells": [
    {
      "cell_type": "markdown",
      "metadata": {
        "id": "gnarsL5CLr1j"
      },
      "source": [
        "Nadea putri Nur Fauzi\n",
        "\n",
        "Kelas Ular\n",
        "\n",
        "AI Mastery Program"
      ]
    },
    {
      "cell_type": "markdown",
      "metadata": {
        "id": "oYtspqPpLzka"
      },
      "source": [
        "# Import Library"
      ]
    },
    {
      "cell_type": "code",
      "execution_count": null,
      "metadata": {
        "id": "yQN6AEb4MwCp"
      },
      "outputs": [],
      "source": [
        "import time\n",
        "import datetime\n",
        "import numpy as np\n",
        "import PIL.Image as Image\n",
        "import matplotlib.pylab as plt\n",
        "import tensorflow as tf\n",
        "import tensorflow_hub as hub\n",
        "\n",
        "%load_ext tensorboard"
      ]
    },
    {
      "cell_type": "markdown",
      "metadata": {
        "id": "WC8kLZnGL8wf"
      },
      "source": [
        "# Download model Classifier dari TFHub"
      ]
    },
    {
      "cell_type": "code",
      "execution_count": null,
      "metadata": {
        "id": "vZM9Jsqn-HIh"
      },
      "outputs": [],
      "source": [
        "mobilenet_v3 =\"https://tfhub.dev/google/imagenet/mobilenet_v3_large_100_224/classification/5\"\n",
        "\n",
        "classifier_model = mobilenet_v3"
      ]
    },
    {
      "cell_type": "code",
      "execution_count": null,
      "metadata": {
        "id": "-mZ1KJgw-Odo"
      },
      "outputs": [],
      "source": [
        "img_shape = (224, 224)\n",
        "\n",
        "classifier = tf.keras.Sequential([hub.KerasLayer(classifier_model, input_shape=img_shape+(3,))])"
      ]
    },
    {
      "cell_type": "markdown",
      "metadata": {
        "id": "YZKQQuU7MI2i"
      },
      "source": [
        "# Load Dataset"
      ]
    },
    {
      "cell_type": "code",
      "execution_count": null,
      "metadata": {
        "colab": {
          "base_uri": "https://localhost:8080/"
        },
        "id": "gqmGwy6hOPa-",
        "outputId": "af5848fb-c822-48ae-fe36-0a99c5389318"
      },
      "outputs": [
        {
          "output_type": "stream",
          "name": "stdout",
          "text": [
            "Mounted at /content/drive\n"
          ]
        }
      ],
      "source": [
        "from google.colab import drive\n",
        "\n",
        "drive.mount('/content/drive')"
      ]
    },
    {
      "cell_type": "code",
      "execution_count": null,
      "metadata": {
        "id": "97Ar68OOOVeL"
      },
      "outputs": [],
      "source": [
        "data = '/content/drive/My Drive/dataset/4-animal-classification/train'"
      ]
    },
    {
      "cell_type": "code",
      "source": [
        "data"
      ],
      "metadata": {
        "id": "diRe9D5YrMoM",
        "outputId": "a81447f3-47a2-4e13-f6ba-eec0b313b897",
        "colab": {
          "base_uri": "https://localhost:8080/",
          "height": 36
        }
      },
      "execution_count": null,
      "outputs": [
        {
          "output_type": "execute_result",
          "data": {
            "text/plain": [
              "'/content/drive/My Drive/dataset/4-animal-classification/train'"
            ],
            "application/vnd.google.colaboratory.intrinsic+json": {
              "type": "string"
            }
          },
          "metadata": {},
          "execution_count": 3
        }
      ]
    },
    {
      "cell_type": "markdown",
      "metadata": {
        "id": "y1N_zhrklZEm"
      },
      "source": [
        "Preprocessing data (Mengganti parameter data)"
      ]
    },
    {
      "cell_type": "code",
      "execution_count": null,
      "metadata": {
        "colab": {
          "base_uri": "https://localhost:8080/"
        },
        "id": "J8SNv_VhOc3F",
        "outputId": "fcdc1fbb-0af1-45a9-f0d6-dbb04ff32bf9"
      },
      "outputs": [
        {
          "output_type": "stream",
          "name": "stdout",
          "text": [
            "Found 2800 files belonging to 4 classes.\n",
            "Using 2240 files for training.\n",
            "Found 2800 files belonging to 4 classes.\n",
            "Using 560 files for validation.\n"
          ]
        }
      ],
      "source": [
        "batch_size = 32\n",
        "img_height = 224\n",
        "img_width = 224\n",
        "\n",
        "train_gen = tf.keras.utils.image_dataset_from_directory(\n",
        "  str(data),\n",
        "  validation_split=0.2,\n",
        "  subset='training',\n",
        "  seed=123,\n",
        "  image_size=(img_height, img_width),\n",
        "  batch_size=batch_size\n",
        ")\n",
        "\n",
        "val_gen = tf.keras.utils.image_dataset_from_directory(\n",
        "  str(data),\n",
        "  validation_split=0.2,\n",
        "  subset='validation',\n",
        "  seed=123,\n",
        "  image_size=(img_height, img_width),\n",
        "  batch_size=batch_size\n",
        ")"
      ]
    },
    {
      "cell_type": "code",
      "execution_count": null,
      "metadata": {
        "colab": {
          "base_uri": "https://localhost:8080/"
        },
        "id": "hdhfISRf-1MG",
        "outputId": "86a191be-18b3-4865-a227-068136299378"
      },
      "outputs": [
        {
          "output_type": "stream",
          "name": "stdout",
          "text": [
            "['cat' 'deer' 'dog' 'horse']\n"
          ]
        }
      ],
      "source": [
        "class_names = np.array(train_gen.class_names)\n",
        "print(class_names)"
      ]
    },
    {
      "cell_type": "code",
      "execution_count": null,
      "metadata": {
        "id": "5YjNE7rDOfaQ"
      },
      "outputs": [],
      "source": [
        "normalization_layer = tf.keras.layers.Rescaling(1./255)\n",
        "train_gen = train_gen.map(lambda x, y: (normalization_layer(x), y)) \n",
        "val_gen = val_gen.map(lambda x, y: (normalization_layer(x), y))"
      ]
    },
    {
      "cell_type": "code",
      "execution_count": null,
      "metadata": {
        "id": "7N-3doBW-95R"
      },
      "outputs": [],
      "source": [
        "AUTOTUNE = tf.data.AUTOTUNE\n",
        "train_gen = train_gen.cache().prefetch(buffer_size=AUTOTUNE)\n",
        "val_gen = val_gen.cache().prefetch(buffer_size=AUTOTUNE)"
      ]
    },
    {
      "cell_type": "code",
      "execution_count": null,
      "metadata": {
        "colab": {
          "base_uri": "https://localhost:8080/"
        },
        "id": "hyPJHnda--F3",
        "outputId": "c722945b-6d30-44ff-fc32-0f68a62f0fbe"
      },
      "outputs": [
        {
          "output_type": "stream",
          "name": "stdout",
          "text": [
            "(32, 224, 224, 3)\n",
            "(32,)\n"
          ]
        }
      ],
      "source": [
        "for image_batch, labels_batch in train_gen:\n",
        "  print(image_batch.shape)\n",
        "  print(labels_batch.shape)\n",
        "  break"
      ]
    },
    {
      "cell_type": "markdown",
      "metadata": {
        "id": "Id0oJJktoVRB"
      },
      "source": [
        "Data dengan batch_size = 32 dengan size 224x224 dan depth = 3"
      ]
    },
    {
      "cell_type": "markdown",
      "metadata": {
        "id": "gQdy4XIPMcc3"
      },
      "source": [
        "# Download Headless Model dari TFHub"
      ]
    },
    {
      "cell_type": "code",
      "execution_count": null,
      "metadata": {
        "id": "dkP2zpXV_r8R"
      },
      "outputs": [],
      "source": [
        "mobilenet_v3 = \"https://tfhub.dev/google/imagenet/mobilenet_v3_large_100_224/feature_vector/5\"\n",
        "\n",
        "feature_extractor_model = mobilenet_v3"
      ]
    },
    {
      "cell_type": "code",
      "execution_count": null,
      "metadata": {
        "id": "qqihbAyx_b0V"
      },
      "outputs": [],
      "source": [
        "feature_extractor_layer = hub.KerasLayer(\n",
        "    feature_extractor_model,\n",
        "    input_shape=(224, 224, 3),\n",
        "    trainable=True,\n",
        "    arguments=dict(batch_norm_momentum=0.997)\n",
        "    )"
      ]
    },
    {
      "cell_type": "code",
      "execution_count": null,
      "metadata": {
        "colab": {
          "base_uri": "https://localhost:8080/"
        },
        "id": "6905g7d2_wo2",
        "outputId": "98d188df-0adf-4da9-f8f5-4b0e998d355b"
      },
      "outputs": [
        {
          "output_type": "stream",
          "name": "stdout",
          "text": [
            "(32, 1280)\n"
          ]
        }
      ],
      "source": [
        "feature_batch = feature_extractor_layer(image_batch)\n",
        "print(feature_batch.shape)"
      ]
    },
    {
      "cell_type": "code",
      "execution_count": null,
      "metadata": {
        "colab": {
          "base_uri": "https://localhost:8080/"
        },
        "id": "mXKzXx_TOobV",
        "outputId": "569a2029-c48d-4539-a6d4-ac643ecce664"
      },
      "outputs": [
        {
          "output_type": "stream",
          "name": "stdout",
          "text": [
            "Model: \"sequential_1\"\n",
            "_________________________________________________________________\n",
            " Layer (type)                Output Shape              Param #   \n",
            "=================================================================\n",
            " keras_layer_1 (KerasLayer)  (None, 1280)              4226432   \n",
            "                                                                 \n",
            " dense (Dense)               (None, 4)                 5124      \n",
            "                                                                 \n",
            "=================================================================\n",
            "Total params: 4,231,556\n",
            "Trainable params: 4,207,156\n",
            "Non-trainable params: 24,400\n",
            "_________________________________________________________________\n"
          ]
        }
      ],
      "source": [
        "num_classes = len(class_names)\n",
        "\n",
        "model = tf.keras.Sequential([\n",
        "  feature_extractor_layer,\n",
        "  tf.keras.layers.Dense(num_classes)\n",
        "])\n",
        "\n",
        "model.summary()"
      ]
    },
    {
      "cell_type": "markdown",
      "metadata": {
        "id": "21oWAWDTMuO2"
      },
      "source": [
        "# Train Model Klasifikasi"
      ]
    },
    {
      "cell_type": "code",
      "execution_count": null,
      "metadata": {
        "id": "24ihCih5Ows8"
      },
      "outputs": [],
      "source": [
        "model.compile(optimizer=tf.keras.optimizers.Adam(),loss=tf.keras.losses.SparseCategoricalCrossentropy(from_logits=True),metrics=['accuracy'])\n",
        "\n",
        "log_dir = \"logs/fits/\" + datetime.datetime.now().strftime(\"%Y%m%d-%H%M%S\")\n",
        "tensorboard_callback = tf.keras.callbacks.TensorBoard(log_dir=log_dir,histogram_freq=1)"
      ]
    },
    {
      "cell_type": "code",
      "execution_count": null,
      "metadata": {
        "colab": {
          "base_uri": "https://localhost:8080/"
        },
        "id": "_ZmmsUf2O17a",
        "outputId": "65470535-fdf5-415b-c4f8-8843659dc6d4"
      },
      "outputs": [
        {
          "output_type": "stream",
          "name": "stdout",
          "text": [
            "Epoch 1/20\n",
            "70/70 [==============================] - 499s 7s/step - loss: 0.6242 - accuracy: 0.8687 - val_loss: 0.9098 - val_accuracy: 0.8857\n",
            "Epoch 2/20\n",
            "70/70 [==============================] - 15s 220ms/step - loss: 0.3378 - accuracy: 0.9759 - val_loss: 0.7417 - val_accuracy: 0.9196\n",
            "Epoch 3/20\n",
            "70/70 [==============================] - 16s 224ms/step - loss: 0.3138 - accuracy: 0.9817 - val_loss: 0.7762 - val_accuracy: 0.9071\n",
            "Epoch 4/20\n",
            "70/70 [==============================] - 15s 220ms/step - loss: 0.3392 - accuracy: 0.9714 - val_loss: 1.0730 - val_accuracy: 0.8857\n",
            "Epoch 5/20\n",
            "70/70 [==============================] - 15s 221ms/step - loss: 0.3370 - accuracy: 0.9754 - val_loss: 1.7515 - val_accuracy: 0.8643\n",
            "Epoch 6/20\n",
            "70/70 [==============================] - 15s 220ms/step - loss: 0.3404 - accuracy: 0.9723 - val_loss: 1.2616 - val_accuracy: 0.8304\n",
            "Epoch 7/20\n",
            "70/70 [==============================] - 16s 224ms/step - loss: 0.2843 - accuracy: 0.9915 - val_loss: 0.9559 - val_accuracy: 0.8821\n",
            "Epoch 8/20\n",
            "70/70 [==============================] - 16s 221ms/step - loss: 0.2820 - accuracy: 0.9937 - val_loss: 0.9193 - val_accuracy: 0.8946\n",
            "Epoch 9/20\n",
            "70/70 [==============================] - 15s 222ms/step - loss: 0.2703 - accuracy: 0.9929 - val_loss: 1.4349 - val_accuracy: 0.8857\n",
            "Epoch 10/20\n",
            "70/70 [==============================] - 16s 222ms/step - loss: 0.2835 - accuracy: 0.9884 - val_loss: 1.1469 - val_accuracy: 0.8804\n",
            "Epoch 11/20\n",
            "70/70 [==============================] - 15s 219ms/step - loss: 0.3335 - accuracy: 0.9759 - val_loss: 1.2007 - val_accuracy: 0.8571\n",
            "Epoch 12/20\n",
            "70/70 [==============================] - 15s 220ms/step - loss: 0.3313 - accuracy: 0.9741 - val_loss: 1.3996 - val_accuracy: 0.8161\n",
            "Epoch 13/20\n",
            "70/70 [==============================] - 16s 234ms/step - loss: 0.2733 - accuracy: 0.9929 - val_loss: 0.9652 - val_accuracy: 0.8446\n",
            "Epoch 14/20\n",
            "70/70 [==============================] - 17s 249ms/step - loss: 0.2525 - accuracy: 0.9978 - val_loss: 0.7908 - val_accuracy: 0.8946\n",
            "Epoch 15/20\n",
            "70/70 [==============================] - 16s 224ms/step - loss: 0.2512 - accuracy: 0.9978 - val_loss: 0.6357 - val_accuracy: 0.9268\n",
            "Epoch 16/20\n",
            "70/70 [==============================] - 16s 224ms/step - loss: 0.2450 - accuracy: 0.9996 - val_loss: 0.6480 - val_accuracy: 0.9429\n",
            "Epoch 17/20\n",
            "70/70 [==============================] - 16s 221ms/step - loss: 0.2384 - accuracy: 1.0000 - val_loss: 0.6160 - val_accuracy: 0.9446\n",
            "Epoch 18/20\n",
            "70/70 [==============================] - 16s 221ms/step - loss: 0.2352 - accuracy: 1.0000 - val_loss: 0.5944 - val_accuracy: 0.9464\n",
            "Epoch 19/20\n",
            "70/70 [==============================] - 15s 221ms/step - loss: 0.2321 - accuracy: 1.0000 - val_loss: 0.5769 - val_accuracy: 0.9446\n",
            "Epoch 20/20\n",
            "70/70 [==============================] - 16s 221ms/step - loss: 0.2289 - accuracy: 1.0000 - val_loss: 0.5622 - val_accuracy: 0.9429\n"
          ]
        }
      ],
      "source": [
        "epochs = 20\n",
        "\n",
        "history = model.fit(train_gen,\n",
        "                    validation_data=val_gen,\n",
        "                    epochs=epochs,\n",
        "                    callbacks=tensorboard_callback)"
      ]
    },
    {
      "cell_type": "code",
      "source": [
        "import matplotlib.pyplot as plt\n",
        "\n",
        "plt.figure()\n",
        "plt.plot(history.history['accuracy'])\n",
        "plt.plot(history.history['val_accuracy'])\n",
        "plt.legend(['accuracy','val_accuracy'],loc='upper right')\n",
        "plt.show()"
      ],
      "metadata": {
        "colab": {
          "base_uri": "https://localhost:8080/",
          "height": 265
        },
        "id": "bzUEDUXUJWjt",
        "outputId": "9d37ff71-b812-42f4-fdef-217b10286edd"
      },
      "execution_count": null,
      "outputs": [
        {
          "output_type": "display_data",
          "data": {
            "text/plain": [
              "<Figure size 432x288 with 1 Axes>"
            ],
            "image/png": "[encoded data removed]"
          },
          "metadata": {
            "needs_background": "light"
          }
        }
      ]
    },
    {
      "cell_type": "code",
      "source": [
        "plt.figure()\n",
        "plt.plot(history.history['loss'])\n",
        "plt.plot(history.history['val_loss'])\n",
        "plt.legend(['loss','val_loss'],loc='upper right')\n",
        "plt.show()"
      ],
      "metadata": {
        "colab": {
          "base_uri": "https://localhost:8080/",
          "height": 266
        },
        "id": "4LdB1QISJcUg",
        "outputId": "fc9d2632-45c9-4d80-c5ea-f147b9f15c2d"
      },
      "execution_count": null,
      "outputs": [
        {
          "output_type": "display_data",
          "data": {
            "text/plain": [
              "<Figure size 432x288 with 1 Axes>"
            ],
            "image/png": "[encoded data removed]"
          },
          "metadata": {
            "needs_background": "light"
          }
        }
      ]
    },
    {
      "cell_type": "markdown",
      "metadata": {
        "id": "WrFlFKS2bfEp"
      },
      "source": [
        "# Submission"
      ]
    },
    {
      "cell_type": "code",
      "execution_count": null,
      "metadata": {
        "id": "95hywlsaJr01"
      },
      "outputs": [],
      "source": [
        "sub_csv ='/content/drive/My Drive/dataset/4-animal-classification/Sample_submission.csv'\n",
        "path_test = '/content/drive/My Drive/dataset/4-animal-classification/test'\n",
        "\n",
        "#ini buat ngebaca data csv submission sama data test yang gambar"
      ]
    },
    {
      "cell_type": "code",
      "execution_count": null,
      "metadata": {
        "id": "zRkZSqtmZojb"
      },
      "outputs": [],
      "source": [
        "import pandas as pd\n",
        "\n",
        "df_sub = pd.read_csv(sub_csv)\n",
        "image_id = df_sub['ID']\n",
        "df_sub.head(10)"
      ]
    },
    {
      "cell_type": "code",
      "execution_count": null,
      "metadata": {
        "id": "ZcKE6AVJacbW"
      },
      "outputs": [],
      "source": [
        "from tensorflow.keras.preprocessing.image import load_img\n",
        "\n",
        "labels = []\n",
        "\n",
        "\n",
        "for i in image_id:\n",
        "    image = load_img(path_test+'/'+str(i)+'.jpg', target_size=(224, 224))\n",
        "    img = np.array(image)\n",
        "    img = img / 255.0\n",
        "    img = img.reshape(1,224,224,3)\n",
        "    label = model.predict(img)\n",
        "    label_id = label[0].tolist()\n",
        "    \n",
        "    labels.append(label_id.index(max(label_id)))\n",
        "\n",
        "#ini predict sama ngubah parameter gambar samain kek yg di train"
      ]
    },
    {
      "cell_type": "code",
      "execution_count": null,
      "metadata": {
        "id": "5joMe68VbZ5V"
      },
      "outputs": [],
      "source": [
        "df_sub['Label'] = labels\n",
        "df_sub.head(10)\n",
        "\n",
        "#ini output predict"
      ]
    },
    {
      "cell_type": "code",
      "execution_count": null,
      "metadata": {
        "id": "iQiryT3wbjdf"
      },
      "outputs": [],
      "source": [
        "df_sub.to_csv('submitketiga.csv',index=False)"
      ]
    }
  ],
  "metadata": {
    "colab": {
      "provenance": []
    },
    "kernelspec": {
      "display_name": "Python 3",
      "name": "python3"
    },
    "language_info": {
      "name": "python"
    },
    "accelerator": "GPU"
  },
  "nbformat": 4,
  "nbformat_minor": 0
}