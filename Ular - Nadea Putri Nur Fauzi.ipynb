{
  "nbformat": 4,
  "nbformat_minor": 0,
  "metadata": {
    "colab": {
      "provenance": [],
      "collapsed_sections": []
    },
    "kernelspec": {
      "name": "python3",
      "display_name": "Python 3"
    },
    "language_info": {
      "name": "python"
    }
  },
  "cells": [
    {
      "cell_type": "markdown",
      "source": [
        "Nadea putri Nur Fauzi\n",
        "\n",
        "Kelas Ular\n",
        "\n",
        "AI Mastery Program"
      ],
      "metadata": {
        "id": "gnarsL5CLr1j"
      }
    },
    {
      "cell_type": "markdown",
      "source": [
        "# Import Library"
      ],
      "metadata": {
        "id": "oYtspqPpLzka"
      }
    },
    {
      "cell_type": "code",
      "execution_count": null,
      "metadata": {
        "id": "yQN6AEb4MwCp"
      },
      "outputs": [],
      "source": [
        "import time\n",
        "import datetime\n",
        "import numpy as np\n",
        "import PIL.Image as Image\n",
        "import matplotlib.pylab as plt\n",
        "import tensorflow as tf\n",
        "import tensorflow_hub as hub\n",
        "\n",
        "%load_ext tensorboard"
      ]
    },
    {
      "cell_type": "markdown",
      "source": [
        "# Download model Classifier dari TFHub"
      ],
      "metadata": {
        "id": "WC8kLZnGL8wf"
      }
    },
    {
      "cell_type": "code",
      "source": [
        "mobilenet_v3 =\"https://tfhub.dev/google/imagenet/mobilenet_v3_large_100_224/classification/5\"\n",
        "\n",
        "classifier_model = mobilenet_v3"
      ],
      "metadata": {
        "id": "vZM9Jsqn-HIh"
      },
      "execution_count": null,
      "outputs": []
    },
    {
      "cell_type": "code",
      "source": [
        "img_shape = (224, 224)\n",
        "\n",
        "classifier = tf.keras.Sequential([hub.KerasLayer(classifier_model, input_shape=img_shape+(3,))])"
      ],
      "metadata": {
        "id": "-mZ1KJgw-Odo"
      },
      "execution_count": null,
      "outputs": []
    },
    {
      "cell_type": "markdown",
      "source": [
        "# Load Dataset"
      ],
      "metadata": {
        "id": "YZKQQuU7MI2i"
      }
    },
    {
      "cell_type": "code",
      "source": [
        "from google.colab import drive\n",
        "\n",
        "drive.mount('/content/drive')"
      ],
      "metadata": {
        "colab": {
          "base_uri": "https://localhost:8080/"
        },
        "id": "gqmGwy6hOPa-",
        "outputId": "aaa4059d-0254-47df-ce97-d8825bd59e62"
      },
      "execution_count": null,
      "outputs": [
        {
          "output_type": "stream",
          "name": "stdout",
          "text": [
            "Mounted at /content/drive\n"
          ]
        }
      ]
    },
    {
      "cell_type": "code",
      "source": [
        "data = '/content/drive/My Drive/dataset/4-animal-classification/train'"
      ],
      "metadata": {
        "id": "97Ar68OOOVeL"
      },
      "execution_count": null,
      "outputs": []
    },
    {
      "cell_type": "markdown",
      "source": [
        "Preprocessing data (Mengganti parameter data)"
      ],
      "metadata": {
        "id": "y1N_zhrklZEm"
      }
    },
    {
      "cell_type": "code",
      "source": [
        "batch_size = 32\n",
        "img_height = 224\n",
        "img_width = 224\n",
        "\n",
        "train_gen = tf.keras.utils.image_dataset_from_directory(\n",
        "  str(data),\n",
        "  validation_split=0.2,\n",
        "  subset='training',\n",
        "  seed=123,\n",
        "  image_size=(img_height, img_width),\n",
        "  batch_size=batch_size\n",
        ")\n",
        "\n",
        "val_gen = tf.keras.utils.image_dataset_from_directory(\n",
        "  str(data),\n",
        "  validation_split=0.2,\n",
        "  subset='validation',\n",
        "  seed=123,\n",
        "  image_size=(img_height, img_width),\n",
        "  batch_size=batch_size\n",
        ")"
      ],
      "metadata": {
        "id": "J8SNv_VhOc3F",
        "colab": {
          "base_uri": "https://localhost:8080/"
        },
        "outputId": "39d0f27c-53d9-4e64-b315-4ce1f4027112"
      },
      "execution_count": null,
      "outputs": [
        {
          "output_type": "stream",
          "name": "stdout",
          "text": [
            "Found 2800 files belonging to 4 classes.\n",
            "Using 2240 files for training.\n",
            "Found 2800 files belonging to 4 classes.\n",
            "Using 560 files for validation.\n"
          ]
        }
      ]
    },
    {
      "cell_type": "code",
      "source": [
        "class_names = np.array(train_gen.class_names)\n",
        "print(class_names)"
      ],
      "metadata": {
        "colab": {
          "base_uri": "https://localhost:8080/"
        },
        "id": "hdhfISRf-1MG",
        "outputId": "f691e1ec-91d2-43cf-bd55-380fbda115d5"
      },
      "execution_count": null,
      "outputs": [
        {
          "output_type": "stream",
          "name": "stdout",
          "text": [
            "['cat' 'deer' 'dog' 'horse']\n"
          ]
        }
      ]
    },
    {
      "cell_type": "code",
      "source": [
        "normalization_layer = tf.keras.layers.Rescaling(1./255)\n",
        "train_gen = train_gen.map(lambda x, y: (normalization_layer(x), y)) \n",
        "val_gen = val_gen.map(lambda x, y: (normalization_layer(x), y))"
      ],
      "metadata": {
        "id": "5YjNE7rDOfaQ"
      },
      "execution_count": null,
      "outputs": []
    },
    {
      "cell_type": "markdown",
      "source": [
        "Normalisasi menggunakan Tensorflow Keras dengan merescale 1./255\n",
        "\n",
        ".map() untuk mengubah nilai di rentang 0 - 1\n",
        "\n",
        "Lambda = fungsi yang lebih bagus daripada def"
      ],
      "metadata": {
        "id": "a7EIG3MSlHNs"
      }
    },
    {
      "cell_type": "code",
      "source": [
        "AUTOTUNE = tf.data.AUTOTUNE\n",
        "train_gen = train_gen.cache().prefetch(buffer_size=AUTOTUNE)\n",
        "val_gen = val_gen.cache().prefetch(buffer_size=AUTOTUNE)"
      ],
      "metadata": {
        "id": "7N-3doBW-95R"
      },
      "execution_count": null,
      "outputs": []
    },
    {
      "cell_type": "markdown",
      "source": [
        "Buffer_size menggunakan Tensorflow AUTOTUNE\n",
        "\n",
        ".cache() untuk membangun daftar elemen yang melewatinya saat mengulangi sepenuhnya untuk pertama kalinya, dan mengembalikan elemen dari daftar itu pada upaya berikutnya untuk mengulanginya."
      ],
      "metadata": {
        "id": "Mxkat8TDn4Wg"
      }
    },
    {
      "cell_type": "code",
      "source": [
        "for image_batch, labels_batch in train_gen:\n",
        "  print(image_batch.shape)\n",
        "  print(labels_batch.shape)\n",
        "  break"
      ],
      "metadata": {
        "colab": {
          "base_uri": "https://localhost:8080/"
        },
        "id": "hyPJHnda--F3",
        "outputId": "d473544a-62e7-41fd-fc66-8b2d35829f88"
      },
      "execution_count": null,
      "outputs": [
        {
          "output_type": "stream",
          "name": "stdout",
          "text": [
            "(32, 224, 224, 3)\n",
            "(32,)\n"
          ]
        }
      ]
    },
    {
      "cell_type": "markdown",
      "source": [
        "Data dengan batch_size = 32 dengan size 224x224 dan depth = 3"
      ],
      "metadata": {
        "id": "Id0oJJktoVRB"
      }
    },
    {
      "cell_type": "markdown",
      "source": [
        "# Download Headless Model dari TFHub"
      ],
      "metadata": {
        "id": "gQdy4XIPMcc3"
      }
    },
    {
      "cell_type": "code",
      "source": [
        "#transfer learning feature vector\n",
        "mobilenet_v3 = \"https://tfhub.dev/google/imagenet/mobilenet_v3_large_100_224/feature_vector/5\"\n",
        "\n",
        "feature_extractor_model = mobilenet_v3"
      ],
      "metadata": {
        "id": "dkP2zpXV_r8R"
      },
      "execution_count": 1,
      "outputs": []
    },
    {
      "cell_type": "code",
      "source": [
        "feature_extractor_layer = hub.KerasLayer(\n",
        "    feature_extractor_model,\n",
        "    input_shape=(224, 224, 3),\n",
        "    trainable=False)"
      ],
      "metadata": {
        "id": "qqihbAyx_b0V"
      },
      "execution_count": null,
      "outputs": []
    },
    {
      "cell_type": "code",
      "source": [
        "feature_batch = feature_extractor_layer(image_batch)\n",
        "print(feature_batch.shape)"
      ],
      "metadata": {
        "colab": {
          "base_uri": "https://localhost:8080/"
        },
        "id": "6905g7d2_wo2",
        "outputId": "1c8da081-0e4b-40ba-ba22-23fa22d50beb"
      },
      "execution_count": null,
      "outputs": [
        {
          "output_type": "stream",
          "name": "stdout",
          "text": [
            "(32, 1280)\n"
          ]
        }
      ]
    },
    {
      "cell_type": "code",
      "source": [
        "num_classes = len(class_names)\n",
        "\n",
        "model = tf.keras.Sequential([\n",
        "  feature_extractor_layer,\n",
        "  tf.keras.layers.Dense(num_classes)\n",
        "])\n",
        "\n",
        "model.summary()"
      ],
      "metadata": {
        "id": "mXKzXx_TOobV",
        "colab": {
          "base_uri": "https://localhost:8080/"
        },
        "outputId": "92eb0e46-b54f-4cc4-fb74-e53d84ec5e15"
      },
      "execution_count": null,
      "outputs": [
        {
          "output_type": "stream",
          "name": "stdout",
          "text": [
            "Model: \"sequential_1\"\n",
            "_________________________________________________________________\n",
            " Layer (type)                Output Shape              Param #   \n",
            "=================================================================\n",
            " keras_layer_1 (KerasLayer)  (None, 1280)              4226432   \n",
            "                                                                 \n",
            " dense (Dense)               (None, 4)                 5124      \n",
            "                                                                 \n",
            "=================================================================\n",
            "Total params: 4,231,556\n",
            "Trainable params: 5,124\n",
            "Non-trainable params: 4,226,432\n",
            "_________________________________________________________________\n"
          ]
        }
      ]
    },
    {
      "cell_type": "markdown",
      "source": [
        "# Train Model Klasifikasi"
      ],
      "metadata": {
        "id": "21oWAWDTMuO2"
      }
    },
    {
      "cell_type": "code",
      "source": [
        "model.compile(optimizer=tf.keras.optimizers.Adam(),loss=tf.keras.losses.SparseCategoricalCrossentropy(from_logits=True),metrics=['accuracy'])\n",
        "\n",
        "log_dir = \"logs/fits/\" + datetime.datetime.now().strftime(\"%Y%m%d-%H%M%S\")\n",
        "tensorboard_callback = tf.keras.callbacks.TensorBoard(log_dir=log_dir,histogram_freq=1)"
      ],
      "metadata": {
        "id": "24ihCih5Ows8"
      },
      "execution_count": null,
      "outputs": []
    },
    {
      "cell_type": "code",
      "source": [
        "epochs = 50\n",
        "\n",
        "history = model.fit(train_gen,\n",
        "                    validation_data=val_gen,\n",
        "                    epochs=epochs,\n",
        "                    callbacks=tensorboard_callback)"
      ],
      "metadata": {
        "colab": {
          "base_uri": "https://localhost:8080/"
        },
        "id": "_ZmmsUf2O17a",
        "outputId": "cd62a7bd-2a0b-4ce4-bfe6-c400ce362855"
      },
      "execution_count": null,
      "outputs": [
        {
          "output_type": "stream",
          "name": "stdout",
          "text": [
            "Epoch 1/50\n",
            "70/70 [==============================] - 48s 676ms/step - loss: 0.0457 - accuracy: 0.9924 - val_loss: 0.0863 - val_accuracy: 0.9768\n",
            "Epoch 2/50\n",
            "70/70 [==============================] - 47s 677ms/step - loss: 0.0338 - accuracy: 0.9955 - val_loss: 0.0826 - val_accuracy: 0.9768\n",
            "Epoch 3/50\n",
            "70/70 [==============================] - 46s 657ms/step - loss: 0.0260 - accuracy: 0.9978 - val_loss: 0.0804 - val_accuracy: 0.9786\n",
            "Epoch 4/50\n",
            "70/70 [==============================] - 50s 716ms/step - loss: 0.0206 - accuracy: 0.9991 - val_loss: 0.0790 - val_accuracy: 0.9786\n",
            "Epoch 5/50\n",
            "70/70 [==============================] - 48s 690ms/step - loss: 0.0168 - accuracy: 1.0000 - val_loss: 0.0782 - val_accuracy: 0.9768\n",
            "Epoch 6/50\n",
            "70/70 [==============================] - 47s 681ms/step - loss: 0.0140 - accuracy: 1.0000 - val_loss: 0.0778 - val_accuracy: 0.9786\n",
            "Epoch 7/50\n",
            "70/70 [==============================] - 48s 684ms/step - loss: 0.0119 - accuracy: 1.0000 - val_loss: 0.0775 - val_accuracy: 0.9786\n",
            "Epoch 8/50\n",
            "70/70 [==============================] - 46s 662ms/step - loss: 0.0103 - accuracy: 1.0000 - val_loss: 0.0775 - val_accuracy: 0.9786\n",
            "Epoch 9/50\n",
            "70/70 [==============================] - 47s 680ms/step - loss: 0.0090 - accuracy: 1.0000 - val_loss: 0.0776 - val_accuracy: 0.9786\n",
            "Epoch 10/50\n",
            "70/70 [==============================] - 46s 665ms/step - loss: 0.0079 - accuracy: 1.0000 - val_loss: 0.0778 - val_accuracy: 0.9786\n",
            "Epoch 11/50\n",
            "70/70 [==============================] - 49s 702ms/step - loss: 0.0070 - accuracy: 1.0000 - val_loss: 0.0780 - val_accuracy: 0.9786\n",
            "Epoch 12/50\n",
            "70/70 [==============================] - 47s 669ms/step - loss: 0.0063 - accuracy: 1.0000 - val_loss: 0.0783 - val_accuracy: 0.9786\n",
            "Epoch 13/50\n",
            "70/70 [==============================] - 48s 691ms/step - loss: 0.0057 - accuracy: 1.0000 - val_loss: 0.0786 - val_accuracy: 0.9786\n",
            "Epoch 14/50\n",
            "70/70 [==============================] - 48s 685ms/step - loss: 0.0051 - accuracy: 1.0000 - val_loss: 0.0789 - val_accuracy: 0.9786\n",
            "Epoch 15/50\n",
            "70/70 [==============================] - 47s 672ms/step - loss: 0.0047 - accuracy: 1.0000 - val_loss: 0.0793 - val_accuracy: 0.9786\n",
            "Epoch 16/50\n",
            "70/70 [==============================] - 47s 671ms/step - loss: 0.0043 - accuracy: 1.0000 - val_loss: 0.0796 - val_accuracy: 0.9786\n",
            "Epoch 17/50\n",
            "70/70 [==============================] - 49s 701ms/step - loss: 0.0039 - accuracy: 1.0000 - val_loss: 0.0800 - val_accuracy: 0.9786\n",
            "Epoch 18/50\n",
            "70/70 [==============================] - 49s 701ms/step - loss: 0.0036 - accuracy: 1.0000 - val_loss: 0.0804 - val_accuracy: 0.9786\n",
            "Epoch 19/50\n",
            "70/70 [==============================] - 52s 745ms/step - loss: 0.0033 - accuracy: 1.0000 - val_loss: 0.0808 - val_accuracy: 0.9786\n",
            "Epoch 20/50\n",
            "70/70 [==============================] - 50s 716ms/step - loss: 0.0031 - accuracy: 1.0000 - val_loss: 0.0812 - val_accuracy: 0.9786\n",
            "Epoch 21/50\n",
            "70/70 [==============================] - 60s 858ms/step - loss: 0.0029 - accuracy: 1.0000 - val_loss: 0.0816 - val_accuracy: 0.9786\n",
            "Epoch 22/50\n",
            "70/70 [==============================] - 49s 701ms/step - loss: 0.0027 - accuracy: 1.0000 - val_loss: 0.0819 - val_accuracy: 0.9786\n",
            "Epoch 23/50\n",
            "70/70 [==============================] - 50s 724ms/step - loss: 0.0025 - accuracy: 1.0000 - val_loss: 0.0823 - val_accuracy: 0.9786\n",
            "Epoch 24/50\n",
            "70/70 [==============================] - 50s 715ms/step - loss: 0.0023 - accuracy: 1.0000 - val_loss: 0.0827 - val_accuracy: 0.9786\n",
            "Epoch 25/50\n",
            "70/70 [==============================] - 49s 703ms/step - loss: 0.0022 - accuracy: 1.0000 - val_loss: 0.0831 - val_accuracy: 0.9786\n",
            "Epoch 26/50\n",
            "70/70 [==============================] - 48s 684ms/step - loss: 0.0020 - accuracy: 1.0000 - val_loss: 0.0835 - val_accuracy: 0.9786\n",
            "Epoch 27/50\n",
            "70/70 [==============================] - 48s 683ms/step - loss: 0.0019 - accuracy: 1.0000 - val_loss: 0.0839 - val_accuracy: 0.9786\n",
            "Epoch 28/50\n",
            "70/70 [==============================] - 48s 689ms/step - loss: 0.0018 - accuracy: 1.0000 - val_loss: 0.0843 - val_accuracy: 0.9786\n",
            "Epoch 29/50\n",
            "70/70 [==============================] - 46s 662ms/step - loss: 0.0017 - accuracy: 1.0000 - val_loss: 0.0847 - val_accuracy: 0.9786\n",
            "Epoch 30/50\n",
            "70/70 [==============================] - 48s 693ms/step - loss: 0.0016 - accuracy: 1.0000 - val_loss: 0.0851 - val_accuracy: 0.9786\n",
            "Epoch 31/50\n",
            "70/70 [==============================] - 48s 688ms/step - loss: 0.0015 - accuracy: 1.0000 - val_loss: 0.0854 - val_accuracy: 0.9786\n",
            "Epoch 32/50\n",
            "70/70 [==============================] - 47s 681ms/step - loss: 0.0014 - accuracy: 1.0000 - val_loss: 0.0858 - val_accuracy: 0.9786\n",
            "Epoch 33/50\n",
            "70/70 [==============================] - 50s 718ms/step - loss: 0.0014 - accuracy: 1.0000 - val_loss: 0.0862 - val_accuracy: 0.9786\n",
            "Epoch 34/50\n",
            "70/70 [==============================] - 47s 676ms/step - loss: 0.0013 - accuracy: 1.0000 - val_loss: 0.0866 - val_accuracy: 0.9786\n",
            "Epoch 35/50\n",
            "70/70 [==============================] - 50s 719ms/step - loss: 0.0012 - accuracy: 1.0000 - val_loss: 0.0869 - val_accuracy: 0.9786\n",
            "Epoch 36/50\n",
            "70/70 [==============================] - 47s 680ms/step - loss: 0.0012 - accuracy: 1.0000 - val_loss: 0.0873 - val_accuracy: 0.9786\n",
            "Epoch 37/50\n",
            "70/70 [==============================] - 49s 699ms/step - loss: 0.0011 - accuracy: 1.0000 - val_loss: 0.0877 - val_accuracy: 0.9786\n",
            "Epoch 38/50\n",
            "70/70 [==============================] - 47s 674ms/step - loss: 0.0010 - accuracy: 1.0000 - val_loss: 0.0881 - val_accuracy: 0.9768\n",
            "Epoch 39/50\n",
            "70/70 [==============================] - 47s 680ms/step - loss: 9.9034e-04 - accuracy: 1.0000 - val_loss: 0.0884 - val_accuracy: 0.9768\n",
            "Epoch 40/50\n",
            "70/70 [==============================] - 47s 671ms/step - loss: 9.4280e-04 - accuracy: 1.0000 - val_loss: 0.0888 - val_accuracy: 0.9768\n",
            "Epoch 41/50\n",
            "70/70 [==============================] - 47s 673ms/step - loss: 8.9813e-04 - accuracy: 1.0000 - val_loss: 0.0892 - val_accuracy: 0.9768\n",
            "Epoch 42/50\n",
            "70/70 [==============================] - 46s 666ms/step - loss: 8.5610e-04 - accuracy: 1.0000 - val_loss: 0.0895 - val_accuracy: 0.9768\n",
            "Epoch 43/50\n",
            "70/70 [==============================] - 47s 666ms/step - loss: 8.1652e-04 - accuracy: 1.0000 - val_loss: 0.0899 - val_accuracy: 0.9768\n",
            "Epoch 44/50\n",
            "70/70 [==============================] - 47s 677ms/step - loss: 7.7919e-04 - accuracy: 1.0000 - val_loss: 0.0902 - val_accuracy: 0.9768\n",
            "Epoch 45/50\n",
            "70/70 [==============================] - 46s 667ms/step - loss: 7.4397e-04 - accuracy: 1.0000 - val_loss: 0.0906 - val_accuracy: 0.9768\n",
            "Epoch 46/50\n",
            "70/70 [==============================] - 46s 660ms/step - loss: 7.1070e-04 - accuracy: 1.0000 - val_loss: 0.0909 - val_accuracy: 0.9768\n",
            "Epoch 47/50\n",
            "70/70 [==============================] - 46s 659ms/step - loss: 6.7923e-04 - accuracy: 1.0000 - val_loss: 0.0913 - val_accuracy: 0.9768\n",
            "Epoch 48/50\n",
            "70/70 [==============================] - 45s 647ms/step - loss: 6.4946e-04 - accuracy: 1.0000 - val_loss: 0.0917 - val_accuracy: 0.9768\n",
            "Epoch 49/50\n",
            "70/70 [==============================] - 48s 684ms/step - loss: 6.2125e-04 - accuracy: 1.0000 - val_loss: 0.0920 - val_accuracy: 0.9768\n",
            "Epoch 50/50\n",
            "70/70 [==============================] - 47s 671ms/step - loss: 5.9452e-04 - accuracy: 1.0000 - val_loss: 0.0924 - val_accuracy: 0.9768\n"
          ]
        }
      ]
    },
    {
      "cell_type": "code",
      "source": [
        "import matplotlib.pyplot as plt\n",
        "\n",
        "model.evaluate(val_gen)\n",
        "\n",
        "plt.plot(history.history['accuracy'])\n",
        "plt.plot(history.history['val_accuracy'])\n",
        "plt.plot(history.history['loss'])\n",
        "plt.plot(history.history['val_loss'])\n",
        "plt.title('Model accuracy')\n",
        "plt.ylabel('Accuracy')\n",
        "plt.xlabel('Epoch')\n",
        "plt.legend(['Accuracy','Validation Accuracy','Loss','Validation Loss'])\n",
        "plt.show()"
      ],
      "metadata": {
        "id": "R0lSho0TQeXU",
        "colab": {
          "base_uri": "https://localhost:8080/",
          "height": 313
        },
        "outputId": "7d579117-3a1b-4ca6-f2ba-dceba2592d7a"
      },
      "execution_count": null,
      "outputs": [
        {
          "output_type": "stream",
          "name": "stdout",
          "text": [
            "18/18 [==============================] - 12s 638ms/step - loss: 0.0924 - accuracy: 0.9768\n"
          ]
        },
        {
          "output_type": "display_data",
          "data": {
            "text/plain": [
              "<Figure size 432x288 with 1 Axes>"
            ],
            "image/png": "[encoded data removed]"
          },
          "metadata": {
            "needs_background": "light"
          }
        }
      ]
    },
    {
      "cell_type": "markdown",
      "source": [
        "# Submission"
      ],
      "metadata": {
        "id": "WrFlFKS2bfEp"
      }
    },
    {
      "cell_type": "code",
      "source": [
        "sub_csv ='/content/drive/My Drive/dataset/4-animal-classification/Sample_submission.csv'\n",
        "path_test = '/content/drive/My Drive/dataset/4-animal-classification/test'"
      ],
      "metadata": {
        "id": "95hywlsaJr01"
      },
      "execution_count": null,
      "outputs": []
    },
    {
      "cell_type": "code",
      "source": [
        "import pandas as pd\n",
        "\n",
        "df_sub = pd.read_csv(sub_csv)\n",
        "image_id = df_sub['ID']\n",
        "df_sub.head(10)"
      ],
      "metadata": {
        "colab": {
          "base_uri": "https://localhost:8080/",
          "height": 363
        },
        "id": "zRkZSqtmZojb",
        "outputId": "82f28af3-fa43-46e0-fa50-591da1f29168"
      },
      "execution_count": null,
      "outputs": [
        {
          "output_type": "execute_result",
          "data": {
            "text/plain": [
              "   ID  Label\n",
              "0   1      0\n",
              "1   2      0\n",
              "2   3      0\n",
              "3   4      0\n",
              "4   5      0\n",
              "5   6      0\n",
              "6   7      0\n",
              "7   8      0\n",
              "8   9      0\n",
              "9  10      0"
            ],
            "text/html": [
              "\n",
              "  <div id=\"df-e68d5ed3-c93e-4285-b890-9dacf8c00237\">\n",
              "    <div class=\"colab-df-container\">\n",
              "      <div>\n",
              "<style scoped>\n",
              "    .dataframe tbody tr th:only-of-type {\n",
              "        vertical-align: middle;\n",
              "    }\n",
              "\n",
              "    .dataframe tbody tr th {\n",
              "        vertical-align: top;\n",
              "    }\n",
              "\n",
              "    .dataframe thead th {\n",
              "        text-align: right;\n",
              "    }\n",
              "</style>\n",
              "<table border=\"1\" class=\"dataframe\">\n",
              "  <thead>\n",
              "    <tr style=\"text-align: right;\">\n",
              "      <th></th>\n",
              "      <th>ID</th>\n",
              "      <th>Label</th>\n",
              "    </tr>\n",
              "  </thead>\n",
              "  <tbody>\n",
              "    <tr>\n",
              "      <th>0</th>\n",
              "      <td>1</td>\n",
              "      <td>0</td>\n",
              "    </tr>\n",
              "    <tr>\n",
              "      <th>1</th>\n",
              "      <td>2</td>\n",
              "      <td>0</td>\n",
              "    </tr>\n",
              "    <tr>\n",
              "      <th>2</th>\n",
              "      <td>3</td>\n",
              "      <td>0</td>\n",
              "    </tr>\n",
              "    <tr>\n",
              "      <th>3</th>\n",
              "      <td>4</td>\n",
              "      <td>0</td>\n",
              "    </tr>\n",
              "    <tr>\n",
              "      <th>4</th>\n",
              "      <td>5</td>\n",
              "      <td>0</td>\n",
              "    </tr>\n",
              "    <tr>\n",
              "      <th>5</th>\n",
              "      <td>6</td>\n",
              "      <td>0</td>\n",
              "    </tr>\n",
              "    <tr>\n",
              "      <th>6</th>\n",
              "      <td>7</td>\n",
              "      <td>0</td>\n",
              "    </tr>\n",
              "    <tr>\n",
              "      <th>7</th>\n",
              "      <td>8</td>\n",
              "      <td>0</td>\n",
              "    </tr>\n",
              "    <tr>\n",
              "      <th>8</th>\n",
              "      <td>9</td>\n",
              "      <td>0</td>\n",
              "    </tr>\n",
              "    <tr>\n",
              "      <th>9</th>\n",
              "      <td>10</td>\n",
              "      <td>0</td>\n",
              "    </tr>\n",
              "  </tbody>\n",
              "</table>\n",
              "</div>\n",
              "      <button class=\"colab-df-convert\" onclick=\"convertToInteractive('df-e68d5ed3-c93e-4285-b890-9dacf8c00237')\"\n",
              "              title=\"Convert this dataframe to an interactive table.\"\n",
              "              style=\"display:none;\">\n",
              "        \n",
              "  <svg xmlns=\"http://www.w3.org/2000/svg\" height=\"24px\"viewBox=\"0 0 24 24\"\n",
              "       width=\"24px\">\n",
              "    <path d=\"M0 0h24v24H0V0z\" fill=\"none\"/>\n",
              "    <path d=\"M18.56 5.44l.94 2.06.94-2.06 2.06-.94-2.06-.94-.94-2.06-.94 2.06-2.06.94zm-11 1L8.5 8.5l.94-2.06 2.06-.94-2.06-.94L8.5 2.5l-.94 2.06-2.06.94zm10 10l.94 2.06.94-2.06 2.06-.94-2.06-.94-.94-2.06-.94 2.06-2.06.94z\"/><path d=\"M17.41 7.96l-1.37-1.37c-.4-.4-.92-.59-1.43-.59-.52 0-1.04.2-1.43.59L10.3 9.45l-7.72 7.72c-.78.78-.78 2.05 0 2.83L4 21.41c.39.39.9.59 1.41.59.51 0 1.02-.2 1.41-.59l7.78-7.78 2.81-2.81c.8-.78.8-2.07 0-2.86zM5.41 20L4 18.59l7.72-7.72 1.47 1.35L5.41 20z\"/>\n",
              "  </svg>\n",
              "      </button>\n",
              "      \n",
              "  <style>\n",
              "    .colab-df-container {\n",
              "      display:flex;\n",
              "      flex-wrap:wrap;\n",
              "      gap: 12px;\n",
              "    }\n",
              "\n",
              "    .colab-df-convert {\n",
              "      background-color: #E8F0FE;\n",
              "      border: none;\n",
              "      border-radius: 50%;\n",
              "      cursor: pointer;\n",
              "      display: none;\n",
              "      fill: #1967D2;\n",
              "      height: 32px;\n",
              "      padding: 0 0 0 0;\n",
              "      width: 32px;\n",
              "    }\n",
              "\n",
              "    .colab-df-convert:hover {\n",
              "      background-color: #E2EBFA;\n",
              "      box-shadow: 0px 1px 2px rgba(60, 64, 67, 0.3), 0px 1px 3px 1px rgba(60, 64, 67, 0.15);\n",
              "      fill: #174EA6;\n",
              "    }\n",
              "\n",
              "    [theme=dark] .colab-df-convert {\n",
              "      background-color: #3B4455;\n",
              "      fill: #D2E3FC;\n",
              "    }\n",
              "\n",
              "    [theme=dark] .colab-df-convert:hover {\n",
              "      background-color: #434B5C;\n",
              "      box-shadow: 0px 1px 3px 1px rgba(0, 0, 0, 0.15);\n",
              "      filter: drop-shadow(0px 1px 2px rgba(0, 0, 0, 0.3));\n",
              "      fill: #FFFFFF;\n",
              "    }\n",
              "  </style>\n",
              "\n",
              "      <script>\n",
              "        const buttonEl =\n",
              "          document.querySelector('#df-e68d5ed3-c93e-4285-b890-9dacf8c00237 button.colab-df-convert');\n",
              "        buttonEl.style.display =\n",
              "          google.colab.kernel.accessAllowed ? 'block' : 'none';\n",
              "\n",
              "        async function convertToInteractive(key) {\n",
              "          const element = document.querySelector('#df-e68d5ed3-c93e-4285-b890-9dacf8c00237');\n",
              "          const dataTable =\n",
              "            await google.colab.kernel.invokeFunction('convertToInteractive',\n",
              "                                                     [key], {});\n",
              "          if (!dataTable) return;\n",
              "\n",
              "          const docLinkHtml = 'Like what you see? Visit the ' +\n",
              "            '<a target=\"_blank\" href=https://colab.research.google.com/notebooks/data_table.ipynb>data table notebook</a>'\n",
              "            + ' to learn more about interactive tables.';\n",
              "          element.innerHTML = '';\n",
              "          dataTable['output_type'] = 'display_data';\n",
              "          await google.colab.output.renderOutput(dataTable, element);\n",
              "          const docLink = document.createElement('div');\n",
              "          docLink.innerHTML = docLinkHtml;\n",
              "          element.appendChild(docLink);\n",
              "        }\n",
              "      </script>\n",
              "    </div>\n",
              "  </div>\n",
              "  "
            ]
          },
          "metadata": {},
          "execution_count": 20
        }
      ]
    },
    {
      "cell_type": "code",
      "source": [
        "from tensorflow.keras.preprocessing.image import load_img\n",
        "\n",
        "labels = []\n",
        "\n",
        "\n",
        "for i in image_id:\n",
        "    image = load_img(path_test+'/'+str(i)+'.jpg', target_size=(224, 224))\n",
        "    img = np.array(image)\n",
        "    img = img / 255.0\n",
        "    img = img.reshape(1,224,224,3)\n",
        "    label = model.predict(img)\n",
        "    label_id = label[0].tolist()\n",
        "    \n",
        "    labels.append(label_id.index(max(label_id)))"
      ],
      "metadata": {
        "id": "ZcKE6AVJacbW"
      },
      "execution_count": null,
      "outputs": []
    },
    {
      "cell_type": "code",
      "source": [
        "df_sub['Label'] = labels\n",
        "df_sub.head(10)"
      ],
      "metadata": {
        "colab": {
          "base_uri": "https://localhost:8080/",
          "height": 363
        },
        "id": "5joMe68VbZ5V",
        "outputId": "190cce2a-e691-48e5-8dd5-8b7649ea6b9e"
      },
      "execution_count": null,
      "outputs": [
        {
          "output_type": "execute_result",
          "data": {
            "text/plain": [
              "   ID  Label\n",
              "0   1      1\n",
              "1   2      0\n",
              "2   3      2\n",
              "3   4      3\n",
              "4   5      2\n",
              "5   6      1\n",
              "6   7      3\n",
              "7   8      0\n",
              "8   9      3\n",
              "9  10      2"
            ],
            "text/html": [
              "\n",
              "  <div id=\"df-da58bbf5-ee57-48ee-8256-7a3d49b67ea4\">\n",
              "    <div class=\"colab-df-container\">\n",
              "      <div>\n",
              "<style scoped>\n",
              "    .dataframe tbody tr th:only-of-type {\n",
              "        vertical-align: middle;\n",
              "    }\n",
              "\n",
              "    .dataframe tbody tr th {\n",
              "        vertical-align: top;\n",
              "    }\n",
              "\n",
              "    .dataframe thead th {\n",
              "        text-align: right;\n",
              "    }\n",
              "</style>\n",
              "<table border=\"1\" class=\"dataframe\">\n",
              "  <thead>\n",
              "    <tr style=\"text-align: right;\">\n",
              "      <th></th>\n",
              "      <th>ID</th>\n",
              "      <th>Label</th>\n",
              "    </tr>\n",
              "  </thead>\n",
              "  <tbody>\n",
              "    <tr>\n",
              "      <th>0</th>\n",
              "      <td>1</td>\n",
              "      <td>1</td>\n",
              "    </tr>\n",
              "    <tr>\n",
              "      <th>1</th>\n",
              "      <td>2</td>\n",
              "      <td>0</td>\n",
              "    </tr>\n",
              "    <tr>\n",
              "      <th>2</th>\n",
              "      <td>3</td>\n",
              "      <td>2</td>\n",
              "    </tr>\n",
              "    <tr>\n",
              "      <th>3</th>\n",
              "      <td>4</td>\n",
              "      <td>3</td>\n",
              "    </tr>\n",
              "    <tr>\n",
              "      <th>4</th>\n",
              "      <td>5</td>\n",
              "      <td>2</td>\n",
              "    </tr>\n",
              "    <tr>\n",
              "      <th>5</th>\n",
              "      <td>6</td>\n",
              "      <td>1</td>\n",
              "    </tr>\n",
              "    <tr>\n",
              "      <th>6</th>\n",
              "      <td>7</td>\n",
              "      <td>3</td>\n",
              "    </tr>\n",
              "    <tr>\n",
              "      <th>7</th>\n",
              "      <td>8</td>\n",
              "      <td>0</td>\n",
              "    </tr>\n",
              "    <tr>\n",
              "      <th>8</th>\n",
              "      <td>9</td>\n",
              "      <td>3</td>\n",
              "    </tr>\n",
              "    <tr>\n",
              "      <th>9</th>\n",
              "      <td>10</td>\n",
              "      <td>2</td>\n",
              "    </tr>\n",
              "  </tbody>\n",
              "</table>\n",
              "</div>\n",
              "      <button class=\"colab-df-convert\" onclick=\"convertToInteractive('df-da58bbf5-ee57-48ee-8256-7a3d49b67ea4')\"\n",
              "              title=\"Convert this dataframe to an interactive table.\"\n",
              "              style=\"display:none;\">\n",
              "        \n",
              "  <svg xmlns=\"http://www.w3.org/2000/svg\" height=\"24px\"viewBox=\"0 0 24 24\"\n",
              "       width=\"24px\">\n",
              "    <path d=\"M0 0h24v24H0V0z\" fill=\"none\"/>\n",
              "    <path d=\"M18.56 5.44l.94 2.06.94-2.06 2.06-.94-2.06-.94-.94-2.06-.94 2.06-2.06.94zm-11 1L8.5 8.5l.94-2.06 2.06-.94-2.06-.94L8.5 2.5l-.94 2.06-2.06.94zm10 10l.94 2.06.94-2.06 2.06-.94-2.06-.94-.94-2.06-.94 2.06-2.06.94z\"/><path d=\"M17.41 7.96l-1.37-1.37c-.4-.4-.92-.59-1.43-.59-.52 0-1.04.2-1.43.59L10.3 9.45l-7.72 7.72c-.78.78-.78 2.05 0 2.83L4 21.41c.39.39.9.59 1.41.59.51 0 1.02-.2 1.41-.59l7.78-7.78 2.81-2.81c.8-.78.8-2.07 0-2.86zM5.41 20L4 18.59l7.72-7.72 1.47 1.35L5.41 20z\"/>\n",
              "  </svg>\n",
              "      </button>\n",
              "      \n",
              "  <style>\n",
              "    .colab-df-container {\n",
              "      display:flex;\n",
              "      flex-wrap:wrap;\n",
              "      gap: 12px;\n",
              "    }\n",
              "\n",
              "    .colab-df-convert {\n",
              "      background-color: #E8F0FE;\n",
              "      border: none;\n",
              "      border-radius: 50%;\n",
              "      cursor: pointer;\n",
              "      display: none;\n",
              "      fill: #1967D2;\n",
              "      height: 32px;\n",
              "      padding: 0 0 0 0;\n",
              "      width: 32px;\n",
              "    }\n",
              "\n",
              "    .colab-df-convert:hover {\n",
              "      background-color: #E2EBFA;\n",
              "      box-shadow: 0px 1px 2px rgba(60, 64, 67, 0.3), 0px 1px 3px 1px rgba(60, 64, 67, 0.15);\n",
              "      fill: #174EA6;\n",
              "    }\n",
              "\n",
              "    [theme=dark] .colab-df-convert {\n",
              "      background-color: #3B4455;\n",
              "      fill: #D2E3FC;\n",
              "    }\n",
              "\n",
              "    [theme=dark] .colab-df-convert:hover {\n",
              "      background-color: #434B5C;\n",
              "      box-shadow: 0px 1px 3px 1px rgba(0, 0, 0, 0.15);\n",
              "      filter: drop-shadow(0px 1px 2px rgba(0, 0, 0, 0.3));\n",
              "      fill: #FFFFFF;\n",
              "    }\n",
              "  </style>\n",
              "\n",
              "      <script>\n",
              "        const buttonEl =\n",
              "          document.querySelector('#df-da58bbf5-ee57-48ee-8256-7a3d49b67ea4 button.colab-df-convert');\n",
              "        buttonEl.style.display =\n",
              "          google.colab.kernel.accessAllowed ? 'block' : 'none';\n",
              "\n",
              "        async function convertToInteractive(key) {\n",
              "          const element = document.querySelector('#df-da58bbf5-ee57-48ee-8256-7a3d49b67ea4');\n",
              "          const dataTable =\n",
              "            await google.colab.kernel.invokeFunction('convertToInteractive',\n",
              "                                                     [key], {});\n",
              "          if (!dataTable) return;\n",
              "\n",
              "          const docLinkHtml = 'Like what you see? Visit the ' +\n",
              "            '<a target=\"_blank\" href=https://colab.research.google.com/notebooks/data_table.ipynb>data table notebook</a>'\n",
              "            + ' to learn more about interactive tables.';\n",
              "          element.innerHTML = '';\n",
              "          dataTable['output_type'] = 'display_data';\n",
              "          await google.colab.output.renderOutput(dataTable, element);\n",
              "          const docLink = document.createElement('div');\n",
              "          docLink.innerHTML = docLinkHtml;\n",
              "          element.appendChild(docLink);\n",
              "        }\n",
              "      </script>\n",
              "    </div>\n",
              "  </div>\n",
              "  "
            ]
          },
          "metadata": {},
          "execution_count": 22
        }
      ]
    },
    {
      "cell_type": "code",
      "source": [
        "df_sub.to_csv('submitketiga.csv',index=False)"
      ],
      "metadata": {
        "id": "iQiryT3wbjdf"
      },
      "execution_count": null,
      "outputs": []
    }
  ]
}